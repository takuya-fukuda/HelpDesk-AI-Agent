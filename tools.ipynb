{
 "cells": [
  {
   "cell_type": "markdown",
   "metadata": {
    "jp-MarkdownHeadingCollapsed": true
   },
   "source": []
  },
  {
   "cell_type": "markdown",
   "metadata": {},
   "source": [
    "# DB検索ツール"
   ]
  },
  {
   "cell_type": "code",
   "execution_count": 1,
   "metadata": {},
   "outputs": [],
   "source": [
    "import os\n",
    "from dotenv import load_dotenv\n",
    "\n",
    "# .envファイルを読み込む\n",
    "load_dotenv()\n",
    "\n",
    "os.environ[\"openai_api_key\"] = os.getenv(\"OPENAI_API_KEY\")\n",
    "os.environ[\"openai_api_base\"] = os.getenv(\"OPENAI_API_BASE\")\n",
    "os.environ[\"openai_model\"] = os.getenv(\"OPENAI_MODEL\")\n",
    "os.environ[\"db_host\"] = os.getenv(\"DB_HOST\")\n",
    "os.environ[\"db_name\"] = os.getenv(\"DB_NAME\")\n",
    "os.environ[\"db_user\"] = os.getenv(\"DB_USER\")\n",
    "os.environ[\"db_password\"] = os.getenv(\"DB_PASSWORD\")"
   ]
  },
  {
   "cell_type": "code",
   "execution_count": 2,
   "metadata": {},
   "outputs": [
    {
     "name": "stdout",
     "output_type": "stream",
     "text": [
      "2025-07-22 17:07:03,976 INFO Searching by query: Reactについての初期セットアップ\n",
      "2025-07-22 17:07:04,295 INFO Generating embedding vector from input query\n",
      "2025-07-22 17:07:06,595 INFO HTTP Request: POST https://api.openai.com/v1/embeddings \"HTTP/1.1 200 OK\"\n",
      "[(4, 'React ナレッジ\\nオーナー\\n福田拓哉\\nタグ\\n手順 / プロセス\\nプロジェクトの開始の仕方\\n前提：Node.jsがインストールされていること\\nhttps://nodejs.org/ja/download\\nプロジェクトの開始\\n下記はReact×Typescript\\nnpx create-react-app {プロジェクト名} --template typescript\\n最近はこっちになったらしい\\nhttps://qiita.com/gota5010/items/0caf9cf519bed85ea1fc\\nnpm create vite@latest\\ncd プロジェクト名\\nnpm install', {'source': 'PDF', 'file_name': '4615daec-bd30-4bce-a5ff-9fdac962a732_React_ナレッジ.pdf'}), (5, 'https://qiita.com/gota5010/items/0caf9cf519bed85ea1fc\\nnpm create vite@latest\\ncd プロジェクト名\\nnpm install\\nnpm run dev\\nReactプロジェクトのバージョン確認コマンド\\nReact ナレッジ\\n1\\nnpm list react\\nレンダリングとは\\n再描画すること。ブラウザで画面リロードするわけではないけれど、必要なUIの部\\n分だけを\"もう一度作って表示し直す\\n再レンダリングされるとき\\nステートが変わる時\\n開発モードの時は勝手に２回レンダリングされる', {'source': 'PDF', 'file_name': '4615daec-bd30-4bce-a5ff-9fdac962a732_React_ナレッジ.pdf'}), (15, '</StrictMode>\\n);\\n開発の時はStrictModeがついているので2回レンダリングされるのは普通。\\n通常npm run buildすると自動的に削除してくれる\\nReactのif文的なところ\\nあんまりif文は使わず下記の書き方が多い\\n💡{ 真偽値 && JSXの記述}\\n💡{ 真偽値 ? true時の表示 : false時の表示}\\nReactのfor文的なところ\\n下記はよく見る使い方\\n💡配列変数.map(value ⇒ 新しい項目)\\nReact ナレッジ\\n5\\nReact ナレッジ\\n6', {'source': 'PDF', 'file_name': '4615daec-bd30-4bce-a5ff-9fdac962a732_React_ナレッジ.pdf'})]\n",
      "2025-07-22 17:07:06,922 INFO Finished searching QA by query\n",
      "[SearchOutput(file_name='4615daec-bd30-4bce-a5ff-9fdac962a732_React_ナレッジ.pdf', content='React ナレッジ\\nオーナー\\n福田拓哉\\nタグ\\n手順 / プロセス\\nプロジェクトの開始の仕方\\n前提：Node.jsがインストールされていること\\nhttps://nodejs.org/ja/download\\nプロジェクトの開始\\n下記はReact×Typescript\\nnpx create-react-app {プロジェクト名} --template typescript\\n最近はこっちになったらしい\\nhttps://qiita.com/gota5010/items/0caf9cf519bed85ea1fc\\nnpm create vite@latest\\ncd プロジェクト名\\nnpm install'), SearchOutput(file_name='4615daec-bd30-4bce-a5ff-9fdac962a732_React_ナレッジ.pdf', content='https://qiita.com/gota5010/items/0caf9cf519bed85ea1fc\\nnpm create vite@latest\\ncd プロジェクト名\\nnpm install\\nnpm run dev\\nReactプロジェクトのバージョン確認コマンド\\nReact ナレッジ\\n1\\nnpm list react\\nレンダリングとは\\n再描画すること。ブラウザで画面リロードするわけではないけれど、必要なUIの部\\n分だけを\"もう一度作って表示し直す\\n再レンダリングされるとき\\nステートが変わる時\\n開発モードの時は勝手に２回レンダリングされる'), SearchOutput(file_name='4615daec-bd30-4bce-a5ff-9fdac962a732_React_ナレッジ.pdf', content='</StrictMode>\\n);\\n開発の時はStrictModeがついているので2回レンダリングされるのは普通。\\n通常npm run buildすると自動的に削除してくれる\\nReactのif文的なところ\\nあんまりif文は使わず下記の書き方が多い\\n💡{ 真偽値 && JSXの記述}\\n💡{ 真偽値 ? true時の表示 : false時の表示}\\nReactのfor文的なところ\\n下記はよく見る使い方\\n💡配列変数.map(value ⇒ 新しい項目)\\nReact ナレッジ\\n5\\nReact ナレッジ\\n6')]\n"
     ]
    }
   ],
   "source": [
    "import sys\n",
    "import os\n",
    "\n",
    "# プロジェクトのルートパスを追加（必要に応じて階層を調整）\n",
    "sys.path.append(os.path.abspath(os.path.join(os.getcwd(), \"../\")))\n",
    "\n",
    "\n",
    "from src.tools.search_db import search_db_qa\n",
    "\n",
    "result = search_db_qa.invoke(\"Reactについての初期セットアップ\")\n",
    "#print(result[0].content)\n",
    "print(result)"
   ]
  },
  {
   "cell_type": "code",
   "execution_count": null,
   "metadata": {},
   "outputs": [],
   "source": []
  }
 ],
 "metadata": {
  "kernelspec": {
   "display_name": "Python 3 (ipykernel)",
   "language": "python",
   "name": "python3"
  },
  "language_info": {
   "codemirror_mode": {
    "name": "ipython",
    "version": 3
   },
   "file_extension": ".py",
   "mimetype": "text/x-python",
   "name": "python",
   "nbconvert_exporter": "python",
   "pygments_lexer": "ipython3",
   "version": "3.12.5"
  }
 },
 "nbformat": 4,
 "nbformat_minor": 4
}
