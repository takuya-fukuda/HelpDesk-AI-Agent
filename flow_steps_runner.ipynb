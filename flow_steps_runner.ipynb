{
 "cells": [
  {
   "cell_type": "code",
   "execution_count": 1,
   "metadata": {},
   "outputs": [],
   "source": [
    "import os\n",
    "from dotenv import load_dotenv\n",
    "\n",
    "# .envファイルを読み込む\n",
    "load_dotenv()\n",
    "\n",
    "os.environ[\"openai_api_key\"] = os.getenv(\"OPENAI_API_KEY\")\n",
    "os.environ[\"openai_api_base\"] = os.getenv(\"OPENAI_API_BASE\")\n",
    "os.environ[\"openai_model\"] = os.getenv(\"OPENAI_MODEL\")"
   ]
  },
  {
   "cell_type": "code",
   "execution_count": 2,
   "metadata": {},
   "outputs": [],
   "source": [
    "import sys\n",
    "import os\n",
    "\n",
    "# プロジェクトのルートパスを追加（必要に応じて階層を調整）\n",
    "sys.path.append(os.path.abspath(os.path.join(os.getcwd(), \"../\")))\n",
    "\n",
    "from src.agent import HelpDeskAgent\n",
    "from src.configs import Settings\n",
    "from src.tools.search_db import search_db_qa\n",
    "\n",
    "settings = Settings()\n"
   ]
  },
  {
   "cell_type": "code",
   "execution_count": 3,
   "metadata": {},
   "outputs": [],
   "source": [
    "agent = HelpDeskAgent(\n",
    "    settings=settings,\n",
    "    #tools=[search_xyz_manual, search_xyz_qa],\n",
    "    tools=[search_db_qa],\n",
    ")"
   ]
  },
  {
   "cell_type": "code",
   "execution_count": 4,
   "metadata": {},
   "outputs": [],
   "source": [
    "# question = \"\"\"\n",
    "# お世話になっております。\n",
    "\n",
    "# 現在、XYZシステムの利用を検討しており、以下の2点についてご教示いただければと存じます。\n",
    "\n",
    "# 1. パスワードに利用可能な文字の制限について\n",
    "# 当該システムにてパスワードを設定する際、使用可能な文字の範囲（例：英数字、記号、文字数制限など）について詳しい情報をいただけますでしょうか。安全かつシステムでの認証エラーを防ぐため、具体的な仕様を確認したいと考えております。\n",
    "\n",
    "# 2. 最新リリースの取得方法について\n",
    "# 最新のアップデート情報をどのように確認・取得できるかについてもお教えいただけますと幸いです。\n",
    "\n",
    "# お忙しいところ恐縮ですが、ご対応のほどよろしくお願い申し上げます。\n",
    "# \"\"\"\n",
    "question = \"\"\"\n",
    "お世話になっております。\n",
    "\n",
    "現在Reactの利用を検討しており、以下の2点についてご教示いただければと思います。\n",
    "\n",
    "1. Reactの初期セットアップについて\n",
    "\n",
    "2. Reactの主な使い方について\n",
    "\n",
    "お忙しいところ恐縮ですが、ご対応の程よろしくお願いします。\n",
    "\"\"\"\n",
    "\n",
    "\n",
    "\n",
    "# question = \"\"\"\n",
    "# お世話になっております。\n",
    "\n",
    "# 現在、XYZシステムを利用を検討しており、以下の点についてご教示いただければと存じます。\n",
    "\n",
    "# 1. 特定のプロジェクトに対してのみ通知を制限する方法について\n",
    "\n",
    "# 2. パスワードに利用可能な文字の制限について\n",
    "# 当該システムにてパスワードを設定する際、使用可能な文字の範囲（例：英数字、記号、文字数制限など）について詳しい情報をいただけますでしょうか。安全かつシステムでの認証エラーを防ぐため、具体的な仕様を確認したいと考えております。\n",
    "\n",
    "# お忙しいところ恐縮ですが、ご対応のほどよろしくお願い申し上げます。\n",
    "\n",
    "# \"\"\""
   ]
  },
  {
   "cell_type": "markdown",
   "metadata": {},
   "source": [
    "## 計画ステップ"
   ]
  },
  {
   "cell_type": "code",
   "execution_count": 5,
   "metadata": {},
   "outputs": [
    {
     "name": "stdout",
     "output_type": "stream",
     "text": [
      "2025-07-22 14:33:12,681 INFO 🚀 Starting plan generation process...\n",
      "2025-07-22 14:33:12,681 INFO Sending request to OpenAI...\n",
      "2025-07-22 14:33:17,056 INFO HTTP Request: POST https://api.openai.com/v1/chat/completions \"HTTP/1.1 200 OK\"\n",
      "2025-07-22 14:33:17,089 INFO ✅ Successfully received response from OpenAI.\n",
      "2025-07-22 14:33:17,090 INFO Plan generation complete!\n"
     ]
    }
   ],
   "source": [
    "input_data = {\"question\": question}\n",
    "\n",
    "plan_result = agent.create_plan(state=input_data)"
   ]
  },
  {
   "cell_type": "code",
   "execution_count": 6,
   "metadata": {},
   "outputs": [
    {
     "data": {
      "text/plain": [
       "['Reactの初期セットアップに必要なソフトウェアとそのインストール手順について調べる',\n",
       " 'Reactプロジェクトの作成手順について調べる',\n",
       " 'Reactの基本的なコンポーネントの作成方法について調べる',\n",
       " 'Reactの状態管理の基本について調べる',\n",
       " 'Reactのイベントハンドリングの基本について調べる']"
      ]
     },
     "execution_count": 6,
     "metadata": {},
     "output_type": "execute_result"
    }
   ],
   "source": [
    "plan_result[\"plan\"]"
   ]
  },
  {
   "cell_type": "markdown",
   "metadata": {},
   "source": [
    "## ツール選択ステップ"
   ]
  },
  {
   "cell_type": "code",
   "execution_count": 7,
   "metadata": {},
   "outputs": [],
   "source": [
    "input_data = {\n",
    "    \"question\": question,\n",
    "    \"plan\": plan_result[\"plan\"],\n",
    "    \"subtask\": plan_result[\"plan\"][0],\n",
    "    \"challenge_count\": 0,\n",
    "    \"is_completed\": False,\n",
    "}"
   ]
  },
  {
   "cell_type": "code",
   "execution_count": 8,
   "metadata": {},
   "outputs": [
    {
     "name": "stdout",
     "output_type": "stream",
     "text": [
      "2025-07-22 14:33:26,639 INFO 🚀 Starting tool selection process...\n",
      "2025-07-22 14:33:26,642 INFO Sending request to OpenAI...\n",
      "2025-07-22 14:33:34,955 INFO HTTP Request: POST https://api.openai.com/v1/chat/completions \"HTTP/1.1 200 OK\"\n",
      "2025-07-22 14:33:34,964 INFO ✅ Successfully received response from OpenAI.\n",
      "2025-07-22 14:33:34,971 INFO Tool selection complete!\n"
     ]
    }
   ],
   "source": [
    "select_tool_result = agent.select_tools(state=input_data)"
   ]
  },
  {
   "cell_type": "code",
   "execution_count": 9,
   "metadata": {},
   "outputs": [
    {
     "data": {
      "text/plain": [
       "{'messages': [{'role': 'system',\n",
       "   'content': '\\nあなたはXYZというシステムの質問応答のためにサブタスク実行を担当するエージェントです。\\n回答までの全体の流れは計画立案 → サブタスク実行 [ツール実行 → サブタスク回答 → リフレクション] → 最終回答となります。\\nサブタスクはユーザーの質問に回答するために考えられた計画の一つです。\\n最終的な回答は全てのサブタスクの結果を組み合わせて別エージェントが作成します。\\nあなたは以下の1~3のステップを指示に従ってそれぞれ実行します。各ステップは指示があったら実行し、同時に複数ステップの実行は行わないでください。\\nなおリフレクションの結果次第で所定の回数までツール選択・実行を繰り返します。\\n\\n1. ツール選択・実行\\nサブタスク回答のためのツール選択と選択されたツールの実行を行います。\\n2回目以降はリフレクションのアドバイスに従って再実行してください。\\n\\n2. サブタスク回答\\nツールの実行結果はあなたしか観測できません。\\nツールの実行結果から得られた回答に必要なことは言語化し、最後の回答用エージェントに引き継げるようにしてください。\\n例えば、概要を知るサブタスクならば、ツールの実行結果から概要を言語化してください。\\n手順を知るサブタスクならば、ツールの実行結果から手順を言語化してください。\\n回答できなかった場合は、その旨を言語化してください。\\n\\n3. リフレクション\\nツールの実行結果と回答から、サブタスクに対して正しく回答できているかを評価します。\\n回答がわからない、情報が見つからないといった内容の場合は評価をNGにし、やり直すようにしてください。\\n評価がNGの場合は、別のツールを試す、別の文言でツールを試すなど、なぜNGなのかとどうしたら改善できるかを考えアドバイスを作成してください。\\nアドバイスの内容は過去のアドバイスと計画内の他のサブタスクと重複しないようにしてください。\\nアドバイスの内容をもとにツール選択・実行からやり直します。\\n評価がOKの場合は、サブタスク回答を終了します。\\n\\n'},\n",
       "  {'role': 'user',\n",
       "   'content': '\"\\nユーザーの元の質問: \\nお世話になっております。\\n\\n現在Reactの利用を検討しており、以下の2点についてご教示いただければと思います。\\n\\n1. Reactの初期セットアップについて\\n\\n2. Reactの主な使い方について\\n\\nお忙しいところ恐縮ですが、ご対応の程よろしくお願いします。\\n\\n回答のための計画: [\\'Reactの初期セットアップに必要なソフトウェアとそのインストール手順について調べる\\', \\'Reactプロジェクトの作成手順について調べる\\', \\'Reactの基本的なコンポーネントの作成方法について調べる\\', \\'Reactの状態管理の基本について調べる\\', \\'Reactのイベントハンドリングの基本について調べる\\']\\nサブタスク: Reactの初期セットアップに必要なソフトウェアとそのインストール手順について調べる\\n\\nサブタスク実行を開始します。\\n1.ツール選択・実行, 2サブタスク回答を実行してください\\n'},\n",
       "  {'role': 'assistant',\n",
       "   'tool_calls': [{'id': 'call_CTdLwnGKDaTFmZLoT4OnI7yK',\n",
       "     'function': {'arguments': '{\"query\":\"React 初期セットアップ 必要なソフトウェア インストール手順\"}',\n",
       "      'name': 'search_db_qa'},\n",
       "     'type': 'function'}]}]}"
      ]
     },
     "execution_count": 9,
     "metadata": {},
     "output_type": "execute_result"
    }
   ],
   "source": [
    "select_tool_result"
   ]
  },
  {
   "cell_type": "code",
   "execution_count": 10,
   "metadata": {},
   "outputs": [
    {
     "data": {
      "text/plain": [
       "{'role': 'assistant',\n",
       " 'tool_calls': [{'id': 'call_CTdLwnGKDaTFmZLoT4OnI7yK',\n",
       "   'function': {'arguments': '{\"query\":\"React 初期セットアップ 必要なソフトウェア インストール手順\"}',\n",
       "    'name': 'search_db_qa'},\n",
       "   'type': 'function'}]}"
      ]
     },
     "execution_count": 10,
     "metadata": {},
     "output_type": "execute_result"
    }
   ],
   "source": [
    "select_tool_result[\"messages\"][-1]"
   ]
  },
  {
   "cell_type": "code",
   "execution_count": 11,
   "metadata": {},
   "outputs": [
    {
     "data": {
      "text/plain": [
       "[{'role': 'system',\n",
       "  'content': '\\nあなたはXYZというシステムの質問応答のためにサブタスク実行を担当するエージェントです。\\n回答までの全体の流れは計画立案 → サブタスク実行 [ツール実行 → サブタスク回答 → リフレクション] → 最終回答となります。\\nサブタスクはユーザーの質問に回答するために考えられた計画の一つです。\\n最終的な回答は全てのサブタスクの結果を組み合わせて別エージェントが作成します。\\nあなたは以下の1~3のステップを指示に従ってそれぞれ実行します。各ステップは指示があったら実行し、同時に複数ステップの実行は行わないでください。\\nなおリフレクションの結果次第で所定の回数までツール選択・実行を繰り返します。\\n\\n1. ツール選択・実行\\nサブタスク回答のためのツール選択と選択されたツールの実行を行います。\\n2回目以降はリフレクションのアドバイスに従って再実行してください。\\n\\n2. サブタスク回答\\nツールの実行結果はあなたしか観測できません。\\nツールの実行結果から得られた回答に必要なことは言語化し、最後の回答用エージェントに引き継げるようにしてください。\\n例えば、概要を知るサブタスクならば、ツールの実行結果から概要を言語化してください。\\n手順を知るサブタスクならば、ツールの実行結果から手順を言語化してください。\\n回答できなかった場合は、その旨を言語化してください。\\n\\n3. リフレクション\\nツールの実行結果と回答から、サブタスクに対して正しく回答できているかを評価します。\\n回答がわからない、情報が見つからないといった内容の場合は評価をNGにし、やり直すようにしてください。\\n評価がNGの場合は、別のツールを試す、別の文言でツールを試すなど、なぜNGなのかとどうしたら改善できるかを考えアドバイスを作成してください。\\nアドバイスの内容は過去のアドバイスと計画内の他のサブタスクと重複しないようにしてください。\\nアドバイスの内容をもとにツール選択・実行からやり直します。\\n評価がOKの場合は、サブタスク回答を終了します。\\n\\n'},\n",
       " {'role': 'user',\n",
       "  'content': '\"\\nユーザーの元の質問: \\nお世話になっております。\\n\\n現在Reactの利用を検討しており、以下の2点についてご教示いただければと思います。\\n\\n1. Reactの初期セットアップについて\\n\\n2. Reactの主な使い方について\\n\\nお忙しいところ恐縮ですが、ご対応の程よろしくお願いします。\\n\\n回答のための計画: [\\'Reactの初期セットアップに必要なソフトウェアとそのインストール手順について調べる\\', \\'Reactプロジェクトの作成手順について調べる\\', \\'Reactの基本的なコンポーネントの作成方法について調べる\\', \\'Reactの状態管理の基本について調べる\\', \\'Reactのイベントハンドリングの基本について調べる\\']\\nサブタスク: Reactの初期セットアップに必要なソフトウェアとそのインストール手順について調べる\\n\\nサブタスク実行を開始します。\\n1.ツール選択・実行, 2サブタスク回答を実行してください\\n'},\n",
       " {'role': 'assistant',\n",
       "  'tool_calls': [{'id': 'call_CTdLwnGKDaTFmZLoT4OnI7yK',\n",
       "    'function': {'arguments': '{\"query\":\"React 初期セットアップ 必要なソフトウェア インストール手順\"}',\n",
       "     'name': 'search_db_qa'},\n",
       "    'type': 'function'}]}]"
      ]
     },
     "execution_count": 11,
     "metadata": {},
     "output_type": "execute_result"
    }
   ],
   "source": [
    "select_tool_result[\"messages\"]"
   ]
  },
  {
   "cell_type": "markdown",
   "metadata": {},
   "source": [
    "## ツール実行ステップ"
   ]
  },
  {
   "cell_type": "code",
   "execution_count": 12,
   "metadata": {},
   "outputs": [],
   "source": [
    "input_data = {\n",
    "    \"question\": question,\n",
    "    \"plan\": plan_result[\"plan\"],\n",
    "    \"subtask\": plan_result[\"plan\"][0],\n",
    "    \"challenge_count\": 0,\n",
    "    \"messages\": select_tool_result[\"messages\"],\n",
    "    \"is_completed\": False,\n",
    "}"
   ]
  },
  {
   "cell_type": "code",
   "execution_count": 13,
   "metadata": {},
   "outputs": [
    {
     "name": "stdout",
     "output_type": "stream",
     "text": [
      "2025-07-22 14:33:47,660 INFO 🚀 Starting tool execution process...\n",
      "2025-07-22 14:33:47,668 INFO Searching by query: {\"query\":\"React 初期セットアップ 必要なソフトウェア インストール手順\"}\n",
      "2025-07-22 14:33:48,290 INFO Generating embedding vector from input query\n",
      "2025-07-22 14:33:49,026 INFO HTTP Request: POST https://api.openai.com/v1/embeddings \"HTTP/1.1 200 OK\"\n",
      "[(4, 'React ナレッジ\\nオーナー\\n福田拓哉\\nタグ\\n手順 / プロセス\\nプロジェクトの開始の仕方\\n前提：Node.jsがインストールされていること\\nhttps://nodejs.org/ja/download\\nプロジェクトの開始\\n下記はReact×Typescript\\nnpx create-react-app {プロジェクト名} --template typescript\\n最近はこっちになったらしい\\nhttps://qiita.com/gota5010/items/0caf9cf519bed85ea1fc\\nnpm create vite@latest\\ncd プロジェクト名\\nnpm install', {'source': 'PDF', 'file_name': '4615daec-bd30-4bce-a5ff-9fdac962a732_React_ナレッジ.pdf'}), (5, 'https://qiita.com/gota5010/items/0caf9cf519bed85ea1fc\\nnpm create vite@latest\\ncd プロジェクト名\\nnpm install\\nnpm run dev\\nReactプロジェクトのバージョン確認コマンド\\nReact ナレッジ\\n1\\nnpm list react\\nレンダリングとは\\n再描画すること。ブラウザで画面リロードするわけではないけれど、必要なUIの部\\n分だけを\"もう一度作って表示し直す\\n再レンダリングされるとき\\nステートが変わる時\\n開発モードの時は勝手に２回レンダリングされる', {'source': 'PDF', 'file_name': '4615daec-bd30-4bce-a5ff-9fdac962a732_React_ナレッジ.pdf'}), (15, '</StrictMode>\\n);\\n開発の時はStrictModeがついているので2回レンダリングされるのは普通。\\n通常npm run buildすると自動的に削除してくれる\\nReactのif文的なところ\\nあんまりif文は使わず下記の書き方が多い\\n💡{ 真偽値 && JSXの記述}\\n💡{ 真偽値 ? true時の表示 : false時の表示}\\nReactのfor文的なところ\\n下記はよく見る使い方\\n💡配列変数.map(value ⇒ 新しい項目)\\nReact ナレッジ\\n5\\nReact ナレッジ\\n6', {'source': 'PDF', 'file_name': '4615daec-bd30-4bce-a5ff-9fdac962a732_React_ナレッジ.pdf'})]\n",
      "2025-07-22 14:33:49,360 INFO Finished searching QA by query\n",
      "2025-07-22 14:33:49,361 INFO Tool execution complete!\n"
     ]
    }
   ],
   "source": [
    "tool_results = agent.execute_tools(state=input_data)"
   ]
  },
  {
   "cell_type": "code",
   "execution_count": 14,
   "metadata": {},
   "outputs": [
    {
     "data": {
      "text/plain": [
       "[SearchOutput(file_name='4615daec-bd30-4bce-a5ff-9fdac962a732_React_ナレッジ.pdf', content='React ナレッジ\\nオーナー\\n福田拓哉\\nタグ\\n手順 / プロセス\\nプロジェクトの開始の仕方\\n前提：Node.jsがインストールされていること\\nhttps://nodejs.org/ja/download\\nプロジェクトの開始\\n下記はReact×Typescript\\nnpx create-react-app {プロジェクト名} --template typescript\\n最近はこっちになったらしい\\nhttps://qiita.com/gota5010/items/0caf9cf519bed85ea1fc\\nnpm create vite@latest\\ncd プロジェクト名\\nnpm install'),\n",
       " SearchOutput(file_name='4615daec-bd30-4bce-a5ff-9fdac962a732_React_ナレッジ.pdf', content='https://qiita.com/gota5010/items/0caf9cf519bed85ea1fc\\nnpm create vite@latest\\ncd プロジェクト名\\nnpm install\\nnpm run dev\\nReactプロジェクトのバージョン確認コマンド\\nReact ナレッジ\\n1\\nnpm list react\\nレンダリングとは\\n再描画すること。ブラウザで画面リロードするわけではないけれど、必要なUIの部\\n分だけを\"もう一度作って表示し直す\\n再レンダリングされるとき\\nステートが変わる時\\n開発モードの時は勝手に２回レンダリングされる'),\n",
       " SearchOutput(file_name='4615daec-bd30-4bce-a5ff-9fdac962a732_React_ナレッジ.pdf', content='</StrictMode>\\n);\\n開発の時はStrictModeがついているので2回レンダリングされるのは普通。\\n通常npm run buildすると自動的に削除してくれる\\nReactのif文的なところ\\nあんまりif文は使わず下記の書き方が多い\\n💡{ 真偽値 && JSXの記述}\\n💡{ 真偽値 ? true時の表示 : false時の表示}\\nReactのfor文的なところ\\n下記はよく見る使い方\\n💡配列変数.map(value ⇒ 新しい項目)\\nReact ナレッジ\\n5\\nReact ナレッジ\\n6')]"
      ]
     },
     "execution_count": 14,
     "metadata": {},
     "output_type": "execute_result"
    }
   ],
   "source": [
    "tool_results[\"tool_results\"][0][0].results"
   ]
  },
  {
   "cell_type": "code",
   "execution_count": 15,
   "metadata": {},
   "outputs": [
    {
     "data": {
      "text/plain": [
       "{'messages': [{'role': 'system',\n",
       "   'content': '\\nあなたはXYZというシステムの質問応答のためにサブタスク実行を担当するエージェントです。\\n回答までの全体の流れは計画立案 → サブタスク実行 [ツール実行 → サブタスク回答 → リフレクション] → 最終回答となります。\\nサブタスクはユーザーの質問に回答するために考えられた計画の一つです。\\n最終的な回答は全てのサブタスクの結果を組み合わせて別エージェントが作成します。\\nあなたは以下の1~3のステップを指示に従ってそれぞれ実行します。各ステップは指示があったら実行し、同時に複数ステップの実行は行わないでください。\\nなおリフレクションの結果次第で所定の回数までツール選択・実行を繰り返します。\\n\\n1. ツール選択・実行\\nサブタスク回答のためのツール選択と選択されたツールの実行を行います。\\n2回目以降はリフレクションのアドバイスに従って再実行してください。\\n\\n2. サブタスク回答\\nツールの実行結果はあなたしか観測できません。\\nツールの実行結果から得られた回答に必要なことは言語化し、最後の回答用エージェントに引き継げるようにしてください。\\n例えば、概要を知るサブタスクならば、ツールの実行結果から概要を言語化してください。\\n手順を知るサブタスクならば、ツールの実行結果から手順を言語化してください。\\n回答できなかった場合は、その旨を言語化してください。\\n\\n3. リフレクション\\nツールの実行結果と回答から、サブタスクに対して正しく回答できているかを評価します。\\n回答がわからない、情報が見つからないといった内容の場合は評価をNGにし、やり直すようにしてください。\\n評価がNGの場合は、別のツールを試す、別の文言でツールを試すなど、なぜNGなのかとどうしたら改善できるかを考えアドバイスを作成してください。\\nアドバイスの内容は過去のアドバイスと計画内の他のサブタスクと重複しないようにしてください。\\nアドバイスの内容をもとにツール選択・実行からやり直します。\\n評価がOKの場合は、サブタスク回答を終了します。\\n\\n'},\n",
       "  {'role': 'user',\n",
       "   'content': '\"\\nユーザーの元の質問: \\nお世話になっております。\\n\\n現在Reactの利用を検討しており、以下の2点についてご教示いただければと思います。\\n\\n1. Reactの初期セットアップについて\\n\\n2. Reactの主な使い方について\\n\\nお忙しいところ恐縮ですが、ご対応の程よろしくお願いします。\\n\\n回答のための計画: [\\'Reactの初期セットアップに必要なソフトウェアとそのインストール手順について調べる\\', \\'Reactプロジェクトの作成手順について調べる\\', \\'Reactの基本的なコンポーネントの作成方法について調べる\\', \\'Reactの状態管理の基本について調べる\\', \\'Reactのイベントハンドリングの基本について調べる\\']\\nサブタスク: Reactの初期セットアップに必要なソフトウェアとそのインストール手順について調べる\\n\\nサブタスク実行を開始します。\\n1.ツール選択・実行, 2サブタスク回答を実行してください\\n'},\n",
       "  {'role': 'assistant',\n",
       "   'tool_calls': [{'id': 'call_CTdLwnGKDaTFmZLoT4OnI7yK',\n",
       "     'function': {'arguments': '{\"query\":\"React 初期セットアップ 必要なソフトウェア インストール手順\"}',\n",
       "      'name': 'search_db_qa'},\n",
       "     'type': 'function'}]},\n",
       "  {'role': 'tool',\n",
       "   'content': '[SearchOutput(file_name=\\'4615daec-bd30-4bce-a5ff-9fdac962a732_React_ナレッジ.pdf\\', content=\\'React ナレッジ\\\\nオーナー\\\\n福田拓哉\\\\nタグ\\\\n手順 / プロセス\\\\nプロジェクトの開始の仕方\\\\n前提：Node.jsがインストールされていること\\\\nhttps://nodejs.org/ja/download\\\\nプロジェクトの開始\\\\n下記はReact×Typescript\\\\nnpx create-react-app {プロジェクト名} --template typescript\\\\n最近はこっちになったらしい\\\\nhttps://qiita.com/gota5010/items/0caf9cf519bed85ea1fc\\\\nnpm create vite@latest\\\\ncd プロジェクト名\\\\nnpm install\\'), SearchOutput(file_name=\\'4615daec-bd30-4bce-a5ff-9fdac962a732_React_ナレッジ.pdf\\', content=\\'https://qiita.com/gota5010/items/0caf9cf519bed85ea1fc\\\\nnpm create vite@latest\\\\ncd プロジェクト名\\\\nnpm install\\\\nnpm run dev\\\\nReactプロジェクトのバージョン確認コマンド\\\\nReact ナレッジ\\\\n1\\\\nnpm list react\\\\nレンダリングとは\\\\n再描画すること。ブラウザで画面リロードするわけではないけれど、必要なUIの部\\\\n分だけを\"もう一度作って表示し直す\\\\n再レンダリングされるとき\\\\nステートが変わる時\\\\n開発モードの時は勝手に２回レンダリングされる\\'), SearchOutput(file_name=\\'4615daec-bd30-4bce-a5ff-9fdac962a732_React_ナレッジ.pdf\\', content=\\'</StrictMode>\\\\n);\\\\n開発の時はStrictModeがついているので2回レンダリングされるのは普通。\\\\n通常npm run buildすると自動的に削除してくれる\\\\nReactのif文的なところ\\\\nあんまりif文は使わず下記の書き方が多い\\\\n💡{ 真偽値 && JSXの記述}\\\\n💡{ 真偽値 ? true時の表示 : false時の表示}\\\\nReactのfor文的なところ\\\\n下記はよく見る使い方\\\\n💡配列変数.map(value ⇒ 新しい項目)\\\\nReact ナレッジ\\\\n5\\\\nReact ナレッジ\\\\n6\\')]',\n",
       "   'tool_call_id': 'call_CTdLwnGKDaTFmZLoT4OnI7yK'}],\n",
       " 'tool_results': [[ToolResult(tool_name='search_db_qa', args='{\"query\":\"React 初期セットアップ 必要なソフトウェア インストール手順\"}', results=[SearchOutput(file_name='4615daec-bd30-4bce-a5ff-9fdac962a732_React_ナレッジ.pdf', content='React ナレッジ\\nオーナー\\n福田拓哉\\nタグ\\n手順 / プロセス\\nプロジェクトの開始の仕方\\n前提：Node.jsがインストールされていること\\nhttps://nodejs.org/ja/download\\nプロジェクトの開始\\n下記はReact×Typescript\\nnpx create-react-app {プロジェクト名} --template typescript\\n最近はこっちになったらしい\\nhttps://qiita.com/gota5010/items/0caf9cf519bed85ea1fc\\nnpm create vite@latest\\ncd プロジェクト名\\nnpm install'), SearchOutput(file_name='4615daec-bd30-4bce-a5ff-9fdac962a732_React_ナレッジ.pdf', content='https://qiita.com/gota5010/items/0caf9cf519bed85ea1fc\\nnpm create vite@latest\\ncd プロジェクト名\\nnpm install\\nnpm run dev\\nReactプロジェクトのバージョン確認コマンド\\nReact ナレッジ\\n1\\nnpm list react\\nレンダリングとは\\n再描画すること。ブラウザで画面リロードするわけではないけれど、必要なUIの部\\n分だけを\"もう一度作って表示し直す\\n再レンダリングされるとき\\nステートが変わる時\\n開発モードの時は勝手に２回レンダリングされる'), SearchOutput(file_name='4615daec-bd30-4bce-a5ff-9fdac962a732_React_ナレッジ.pdf', content='</StrictMode>\\n);\\n開発の時はStrictModeがついているので2回レンダリングされるのは普通。\\n通常npm run buildすると自動的に削除してくれる\\nReactのif文的なところ\\nあんまりif文は使わず下記の書き方が多い\\n💡{ 真偽値 && JSXの記述}\\n💡{ 真偽値 ? true時の表示 : false時の表示}\\nReactのfor文的なところ\\n下記はよく見る使い方\\n💡配列変数.map(value ⇒ 新しい項目)\\nReact ナレッジ\\n5\\nReact ナレッジ\\n6')])]]}"
      ]
     },
     "execution_count": 15,
     "metadata": {},
     "output_type": "execute_result"
    }
   ],
   "source": [
    "tool_results"
   ]
  },
  {
   "cell_type": "markdown",
   "metadata": {},
   "source": [
    "## サブタスク回答"
   ]
  },
  {
   "cell_type": "code",
   "execution_count": 16,
   "metadata": {},
   "outputs": [],
   "source": [
    "input_data = {\n",
    "    \"question\": question,\n",
    "    \"plan\": plan_result[\"plan\"],\n",
    "    \"subtask\": plan_result[\"plan\"][0],\n",
    "    \"challenge_count\": 0,\n",
    "    \"messages\": tool_results[\"messages\"],\n",
    "    \"tool_results\": tool_results[\"tool_results\"],\n",
    "    \"is_completed\": False,\n",
    "}"
   ]
  },
  {
   "cell_type": "code",
   "execution_count": 17,
   "metadata": {},
   "outputs": [
    {
     "name": "stdout",
     "output_type": "stream",
     "text": [
      "2025-07-22 14:33:56,873 INFO 🚀 Starting subtask answer creation process...\n",
      "2025-07-22 14:33:56,873 INFO Sending request to OpenAI...\n",
      "2025-07-22 14:34:01,820 INFO HTTP Request: POST https://api.openai.com/v1/chat/completions \"HTTP/1.1 200 OK\"\n",
      "2025-07-22 14:34:01,831 INFO ✅ Successfully received response from OpenAI.\n",
      "2025-07-22 14:34:01,832 INFO Subtask answer creation complete!\n"
     ]
    }
   ],
   "source": [
    "subtask_answer = agent.create_subtask_answer(state=input_data)"
   ]
  },
  {
   "cell_type": "code",
   "execution_count": 18,
   "metadata": {},
   "outputs": [
    {
     "data": {
      "text/plain": [
       "{'messages': [{'role': 'system',\n",
       "   'content': '\\nあなたはXYZというシステムの質問応答のためにサブタスク実行を担当するエージェントです。\\n回答までの全体の流れは計画立案 → サブタスク実行 [ツール実行 → サブタスク回答 → リフレクション] → 最終回答となります。\\nサブタスクはユーザーの質問に回答するために考えられた計画の一つです。\\n最終的な回答は全てのサブタスクの結果を組み合わせて別エージェントが作成します。\\nあなたは以下の1~3のステップを指示に従ってそれぞれ実行します。各ステップは指示があったら実行し、同時に複数ステップの実行は行わないでください。\\nなおリフレクションの結果次第で所定の回数までツール選択・実行を繰り返します。\\n\\n1. ツール選択・実行\\nサブタスク回答のためのツール選択と選択されたツールの実行を行います。\\n2回目以降はリフレクションのアドバイスに従って再実行してください。\\n\\n2. サブタスク回答\\nツールの実行結果はあなたしか観測できません。\\nツールの実行結果から得られた回答に必要なことは言語化し、最後の回答用エージェントに引き継げるようにしてください。\\n例えば、概要を知るサブタスクならば、ツールの実行結果から概要を言語化してください。\\n手順を知るサブタスクならば、ツールの実行結果から手順を言語化してください。\\n回答できなかった場合は、その旨を言語化してください。\\n\\n3. リフレクション\\nツールの実行結果と回答から、サブタスクに対して正しく回答できているかを評価します。\\n回答がわからない、情報が見つからないといった内容の場合は評価をNGにし、やり直すようにしてください。\\n評価がNGの場合は、別のツールを試す、別の文言でツールを試すなど、なぜNGなのかとどうしたら改善できるかを考えアドバイスを作成してください。\\nアドバイスの内容は過去のアドバイスと計画内の他のサブタスクと重複しないようにしてください。\\nアドバイスの内容をもとにツール選択・実行からやり直します。\\n評価がOKの場合は、サブタスク回答を終了します。\\n\\n'},\n",
       "  {'role': 'user',\n",
       "   'content': '\"\\nユーザーの元の質問: \\nお世話になっております。\\n\\n現在Reactの利用を検討しており、以下の2点についてご教示いただければと思います。\\n\\n1. Reactの初期セットアップについて\\n\\n2. Reactの主な使い方について\\n\\nお忙しいところ恐縮ですが、ご対応の程よろしくお願いします。\\n\\n回答のための計画: [\\'Reactの初期セットアップに必要なソフトウェアとそのインストール手順について調べる\\', \\'Reactプロジェクトの作成手順について調べる\\', \\'Reactの基本的なコンポーネントの作成方法について調べる\\', \\'Reactの状態管理の基本について調べる\\', \\'Reactのイベントハンドリングの基本について調べる\\']\\nサブタスク: Reactの初期セットアップに必要なソフトウェアとそのインストール手順について調べる\\n\\nサブタスク実行を開始します。\\n1.ツール選択・実行, 2サブタスク回答を実行してください\\n'},\n",
       "  {'role': 'assistant',\n",
       "   'tool_calls': [{'id': 'call_CTdLwnGKDaTFmZLoT4OnI7yK',\n",
       "     'function': {'arguments': '{\"query\":\"React 初期セットアップ 必要なソフトウェア インストール手順\"}',\n",
       "      'name': 'search_db_qa'},\n",
       "     'type': 'function'}]},\n",
       "  {'role': 'tool',\n",
       "   'content': '[SearchOutput(file_name=\\'4615daec-bd30-4bce-a5ff-9fdac962a732_React_ナレッジ.pdf\\', content=\\'React ナレッジ\\\\nオーナー\\\\n福田拓哉\\\\nタグ\\\\n手順 / プロセス\\\\nプロジェクトの開始の仕方\\\\n前提：Node.jsがインストールされていること\\\\nhttps://nodejs.org/ja/download\\\\nプロジェクトの開始\\\\n下記はReact×Typescript\\\\nnpx create-react-app {プロジェクト名} --template typescript\\\\n最近はこっちになったらしい\\\\nhttps://qiita.com/gota5010/items/0caf9cf519bed85ea1fc\\\\nnpm create vite@latest\\\\ncd プロジェクト名\\\\nnpm install\\'), SearchOutput(file_name=\\'4615daec-bd30-4bce-a5ff-9fdac962a732_React_ナレッジ.pdf\\', content=\\'https://qiita.com/gota5010/items/0caf9cf519bed85ea1fc\\\\nnpm create vite@latest\\\\ncd プロジェクト名\\\\nnpm install\\\\nnpm run dev\\\\nReactプロジェクトのバージョン確認コマンド\\\\nReact ナレッジ\\\\n1\\\\nnpm list react\\\\nレンダリングとは\\\\n再描画すること。ブラウザで画面リロードするわけではないけれど、必要なUIの部\\\\n分だけを\"もう一度作って表示し直す\\\\n再レンダリングされるとき\\\\nステートが変わる時\\\\n開発モードの時は勝手に２回レンダリングされる\\'), SearchOutput(file_name=\\'4615daec-bd30-4bce-a5ff-9fdac962a732_React_ナレッジ.pdf\\', content=\\'</StrictMode>\\\\n);\\\\n開発の時はStrictModeがついているので2回レンダリングされるのは普通。\\\\n通常npm run buildすると自動的に削除してくれる\\\\nReactのif文的なところ\\\\nあんまりif文は使わず下記の書き方が多い\\\\n💡{ 真偽値 && JSXの記述}\\\\n💡{ 真偽値 ? true時の表示 : false時の表示}\\\\nReactのfor文的なところ\\\\n下記はよく見る使い方\\\\n💡配列変数.map(value ⇒ 新しい項目)\\\\nReact ナレッジ\\\\n5\\\\nReact ナレッジ\\\\n6\\')]',\n",
       "   'tool_call_id': 'call_CTdLwnGKDaTFmZLoT4OnI7yK'},\n",
       "  {'role': 'assistant',\n",
       "   'content': 'Reactの初期セットアップに必要なソフトウェアとそのインストール手順については以下の通りです。\\n\\n1. **Node.jsのインストール**:\\n   - Reactのプロジェクトを開始するためには、まずNode.jsがインストールされている必要があります。\\n   - Node.jsの公式サイト（https://nodejs.org/ja/download）からダウンロードしてインストールしてください。\\n\\n2. **Reactプロジェクトの作成**:\\n   - Node.jsがインストールされたら、Reactプロジェクトを作成するために以下のコマンドを使用します。\\n   - `npx create-react-app {プロジェクト名} --template typescript` これはTypeScriptを使用したReactプロジェクトの作成方法です。\\n   - 最近では、`npm create vite@latest`を使用してプロジェクトを作成する方法もあります。\\n   - プロジェクトディレクトリに移動し、`npm install`を実行して依存関係をインストールします。\\n\\nこれらの手順に従うことで、Reactの初期セットアップを行うことができます。'}],\n",
       " 'subtask_answer': 'Reactの初期セットアップに必要なソフトウェアとそのインストール手順については以下の通りです。\\n\\n1. **Node.jsのインストール**:\\n   - Reactのプロジェクトを開始するためには、まずNode.jsがインストールされている必要があります。\\n   - Node.jsの公式サイト（https://nodejs.org/ja/download）からダウンロードしてインストールしてください。\\n\\n2. **Reactプロジェクトの作成**:\\n   - Node.jsがインストールされたら、Reactプロジェクトを作成するために以下のコマンドを使用します。\\n   - `npx create-react-app {プロジェクト名} --template typescript` これはTypeScriptを使用したReactプロジェクトの作成方法です。\\n   - 最近では、`npm create vite@latest`を使用してプロジェクトを作成する方法もあります。\\n   - プロジェクトディレクトリに移動し、`npm install`を実行して依存関係をインストールします。\\n\\nこれらの手順に従うことで、Reactの初期セットアップを行うことができます。'}"
      ]
     },
     "execution_count": 18,
     "metadata": {},
     "output_type": "execute_result"
    }
   ],
   "source": [
    "subtask_answer"
   ]
  },
  {
   "cell_type": "code",
   "execution_count": 19,
   "metadata": {},
   "outputs": [
    {
     "name": "stdout",
     "output_type": "stream",
     "text": [
      "Reactの初期セットアップに必要なソフトウェアとそのインストール手順については以下の通りです。\n",
      "\n",
      "1. **Node.jsのインストール**:\n",
      "   - Reactのプロジェクトを開始するためには、まずNode.jsがインストールされている必要があります。\n",
      "   - Node.jsの公式サイト（https://nodejs.org/ja/download）からダウンロードしてインストールしてください。\n",
      "\n",
      "2. **Reactプロジェクトの作成**:\n",
      "   - Node.jsがインストールされたら、Reactプロジェクトを作成するために以下のコマンドを使用します。\n",
      "   - `npx create-react-app {プロジェクト名} --template typescript` これはTypeScriptを使用したReactプロジェクトの作成方法です。\n",
      "   - 最近では、`npm create vite@latest`を使用してプロジェクトを作成する方法もあります。\n",
      "   - プロジェクトディレクトリに移動し、`npm install`を実行して依存関係をインストールします。\n",
      "\n",
      "これらの手順に従うことで、Reactの初期セットアップを行うことができます。\n"
     ]
    }
   ],
   "source": [
    "print(subtask_answer[\"subtask_answer\"])"
   ]
  },
  {
   "cell_type": "markdown",
   "metadata": {},
   "source": [
    "## リフレクション"
   ]
  },
  {
   "cell_type": "code",
   "execution_count": 20,
   "metadata": {},
   "outputs": [],
   "source": [
    "input_data = {\n",
    "    \"question\": question,\n",
    "    \"plan\": plan_result[\"plan\"],\n",
    "    \"subtask\": plan_result[\"plan\"][0],\n",
    "    \"challenge_count\": 0,\n",
    "    \"messages\": subtask_answer[\"messages\"],\n",
    "    \"tool_results\": tool_results[\"tool_results\"],\n",
    "    \"is_completed\": False,\n",
    "    \"subtask_answer\": subtask_answer[\"subtask_answer\"],\n",
    "}"
   ]
  },
  {
   "cell_type": "code",
   "execution_count": 21,
   "metadata": {},
   "outputs": [
    {
     "name": "stdout",
     "output_type": "stream",
     "text": [
      "2025-07-22 14:34:18,807 INFO 🚀 Starting reflection process...\n",
      "2025-07-22 14:34:18,808 INFO Sending request to OpenAI...\n",
      "2025-07-22 14:34:21,453 INFO HTTP Request: POST https://api.openai.com/v1/chat/completions \"HTTP/1.1 200 OK\"\n",
      "2025-07-22 14:34:21,476 INFO ✅ Successfully received response from OpenAI.\n",
      "2025-07-22 14:34:21,477 INFO Reflection complete!\n"
     ]
    }
   ],
   "source": [
    "reflection_result = agent.reflect_subtask(state=input_data)"
   ]
  },
  {
   "cell_type": "code",
   "execution_count": 22,
   "metadata": {},
   "outputs": [
    {
     "data": {
      "text/plain": [
       "{'messages': [{'role': 'system',\n",
       "   'content': '\\nあなたはXYZというシステムの質問応答のためにサブタスク実行を担当するエージェントです。\\n回答までの全体の流れは計画立案 → サブタスク実行 [ツール実行 → サブタスク回答 → リフレクション] → 最終回答となります。\\nサブタスクはユーザーの質問に回答するために考えられた計画の一つです。\\n最終的な回答は全てのサブタスクの結果を組み合わせて別エージェントが作成します。\\nあなたは以下の1~3のステップを指示に従ってそれぞれ実行します。各ステップは指示があったら実行し、同時に複数ステップの実行は行わないでください。\\nなおリフレクションの結果次第で所定の回数までツール選択・実行を繰り返します。\\n\\n1. ツール選択・実行\\nサブタスク回答のためのツール選択と選択されたツールの実行を行います。\\n2回目以降はリフレクションのアドバイスに従って再実行してください。\\n\\n2. サブタスク回答\\nツールの実行結果はあなたしか観測できません。\\nツールの実行結果から得られた回答に必要なことは言語化し、最後の回答用エージェントに引き継げるようにしてください。\\n例えば、概要を知るサブタスクならば、ツールの実行結果から概要を言語化してください。\\n手順を知るサブタスクならば、ツールの実行結果から手順を言語化してください。\\n回答できなかった場合は、その旨を言語化してください。\\n\\n3. リフレクション\\nツールの実行結果と回答から、サブタスクに対して正しく回答できているかを評価します。\\n回答がわからない、情報が見つからないといった内容の場合は評価をNGにし、やり直すようにしてください。\\n評価がNGの場合は、別のツールを試す、別の文言でツールを試すなど、なぜNGなのかとどうしたら改善できるかを考えアドバイスを作成してください。\\nアドバイスの内容は過去のアドバイスと計画内の他のサブタスクと重複しないようにしてください。\\nアドバイスの内容をもとにツール選択・実行からやり直します。\\n評価がOKの場合は、サブタスク回答を終了します。\\n\\n'},\n",
       "  {'role': 'user',\n",
       "   'content': '\"\\nユーザーの元の質問: \\nお世話になっております。\\n\\n現在Reactの利用を検討しており、以下の2点についてご教示いただければと思います。\\n\\n1. Reactの初期セットアップについて\\n\\n2. Reactの主な使い方について\\n\\nお忙しいところ恐縮ですが、ご対応の程よろしくお願いします。\\n\\n回答のための計画: [\\'Reactの初期セットアップに必要なソフトウェアとそのインストール手順について調べる\\', \\'Reactプロジェクトの作成手順について調べる\\', \\'Reactの基本的なコンポーネントの作成方法について調べる\\', \\'Reactの状態管理の基本について調べる\\', \\'Reactのイベントハンドリングの基本について調べる\\']\\nサブタスク: Reactの初期セットアップに必要なソフトウェアとそのインストール手順について調べる\\n\\nサブタスク実行を開始します。\\n1.ツール選択・実行, 2サブタスク回答を実行してください\\n'},\n",
       "  {'role': 'assistant',\n",
       "   'tool_calls': [{'id': 'call_CTdLwnGKDaTFmZLoT4OnI7yK',\n",
       "     'function': {'arguments': '{\"query\":\"React 初期セットアップ 必要なソフトウェア インストール手順\"}',\n",
       "      'name': 'search_db_qa'},\n",
       "     'type': 'function'}]},\n",
       "  {'role': 'tool',\n",
       "   'content': '[SearchOutput(file_name=\\'4615daec-bd30-4bce-a5ff-9fdac962a732_React_ナレッジ.pdf\\', content=\\'React ナレッジ\\\\nオーナー\\\\n福田拓哉\\\\nタグ\\\\n手順 / プロセス\\\\nプロジェクトの開始の仕方\\\\n前提：Node.jsがインストールされていること\\\\nhttps://nodejs.org/ja/download\\\\nプロジェクトの開始\\\\n下記はReact×Typescript\\\\nnpx create-react-app {プロジェクト名} --template typescript\\\\n最近はこっちになったらしい\\\\nhttps://qiita.com/gota5010/items/0caf9cf519bed85ea1fc\\\\nnpm create vite@latest\\\\ncd プロジェクト名\\\\nnpm install\\'), SearchOutput(file_name=\\'4615daec-bd30-4bce-a5ff-9fdac962a732_React_ナレッジ.pdf\\', content=\\'https://qiita.com/gota5010/items/0caf9cf519bed85ea1fc\\\\nnpm create vite@latest\\\\ncd プロジェクト名\\\\nnpm install\\\\nnpm run dev\\\\nReactプロジェクトのバージョン確認コマンド\\\\nReact ナレッジ\\\\n1\\\\nnpm list react\\\\nレンダリングとは\\\\n再描画すること。ブラウザで画面リロードするわけではないけれど、必要なUIの部\\\\n分だけを\"もう一度作って表示し直す\\\\n再レンダリングされるとき\\\\nステートが変わる時\\\\n開発モードの時は勝手に２回レンダリングされる\\'), SearchOutput(file_name=\\'4615daec-bd30-4bce-a5ff-9fdac962a732_React_ナレッジ.pdf\\', content=\\'</StrictMode>\\\\n);\\\\n開発の時はStrictModeがついているので2回レンダリングされるのは普通。\\\\n通常npm run buildすると自動的に削除してくれる\\\\nReactのif文的なところ\\\\nあんまりif文は使わず下記の書き方が多い\\\\n💡{ 真偽値 && JSXの記述}\\\\n💡{ 真偽値 ? true時の表示 : false時の表示}\\\\nReactのfor文的なところ\\\\n下記はよく見る使い方\\\\n💡配列変数.map(value ⇒ 新しい項目)\\\\nReact ナレッジ\\\\n5\\\\nReact ナレッジ\\\\n6\\')]',\n",
       "   'tool_call_id': 'call_CTdLwnGKDaTFmZLoT4OnI7yK'},\n",
       "  {'role': 'assistant',\n",
       "   'content': 'Reactの初期セットアップに必要なソフトウェアとそのインストール手順については以下の通りです。\\n\\n1. **Node.jsのインストール**:\\n   - Reactのプロジェクトを開始するためには、まずNode.jsがインストールされている必要があります。\\n   - Node.jsの公式サイト（https://nodejs.org/ja/download）からダウンロードしてインストールしてください。\\n\\n2. **Reactプロジェクトの作成**:\\n   - Node.jsがインストールされたら、Reactプロジェクトを作成するために以下のコマンドを使用します。\\n   - `npx create-react-app {プロジェクト名} --template typescript` これはTypeScriptを使用したReactプロジェクトの作成方法です。\\n   - 最近では、`npm create vite@latest`を使用してプロジェクトを作成する方法もあります。\\n   - プロジェクトディレクトリに移動し、`npm install`を実行して依存関係をインストールします。\\n\\nこれらの手順に従うことで、Reactの初期セットアップを行うことができます。'},\n",
       "  {'role': 'user', 'content': '\\n3.リフレクションを開始してください\\n'},\n",
       "  {'role': 'assistant',\n",
       "   'content': '{\"advice\":\"サブタスクの内容に対して、Node.jsのインストールとReactプロジェクトの作成手順を正しく提供できています。特に、TypeScriptを使用したプロジェクトの作成方法と、Viteを使用した最新のプロジェクト作成方法についても言及しており、情報は十分です。したがって、評価はOKです。\",\"is_completed\":true}'}],\n",
       " 'reflection_results': [ReflectionResult(advice='サブタスクの内容に対して、Node.jsのインストールとReactプロジェクトの作成手順を正しく提供できています。特に、TypeScriptを使用したプロジェクトの作成方法と、Viteを使用した最新のプロジェクト作成方法についても言及しており、情報は十分です。したがって、評価はOKです。', is_completed=True)],\n",
       " 'challenge_count': 1,\n",
       " 'is_completed': True}"
      ]
     },
     "execution_count": 22,
     "metadata": {},
     "output_type": "execute_result"
    }
   ],
   "source": [
    "reflection_result"
   ]
  },
  {
   "cell_type": "code",
   "execution_count": 23,
   "metadata": {},
   "outputs": [
    {
     "name": "stdout",
     "output_type": "stream",
     "text": [
      "search_db_qa\n"
     ]
    }
   ],
   "source": [
    "# 最初に選択されたツールを確認\n",
    "print(reflection_result[\"messages\"][2][\"tool_calls\"][0][\"function\"][\"name\"])"
   ]
  },
  {
   "cell_type": "code",
   "execution_count": 24,
   "metadata": {},
   "outputs": [
    {
     "name": "stdout",
     "output_type": "stream",
     "text": [
      "is_completed = True\n",
      "advice = サブタスクの内容に対して、Node.jsのインストールとReactプロジェクトの作成手順を正しく提供できています。特に、TypeScriptを使用したプロジェクトの作成方法と、Viteを使用した最新のプロジェクト作成方法についても言及しており、情報は十分です。したがって、評価はOKです。\n"
     ]
    }
   ],
   "source": [
    "# リフレクション結果の確認\n",
    "print(\"is_completed =\", reflection_result[\"reflection_results\"][0].is_completed)\n",
    "print(\"advice =\", reflection_result[\"reflection_results\"][0].advice)"
   ]
  },
  {
   "cell_type": "code",
   "execution_count": null,
   "metadata": {},
   "outputs": [],
   "source": []
  }
 ],
 "metadata": {
  "kernelspec": {
   "display_name": "Python 3 (ipykernel)",
   "language": "python",
   "name": "python3"
  },
  "language_info": {
   "codemirror_mode": {
    "name": "ipython",
    "version": 3
   },
   "file_extension": ".py",
   "mimetype": "text/x-python",
   "name": "python",
   "nbconvert_exporter": "python",
   "pygments_lexer": "ipython3",
   "version": "3.12.5"
  }
 },
 "nbformat": 4,
 "nbformat_minor": 4
}
